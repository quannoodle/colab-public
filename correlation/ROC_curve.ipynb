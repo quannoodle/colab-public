{
  "nbformat": 4,
  "nbformat_minor": 0,
  "metadata": {
    "colab": {
      "name": "ROC-curve.ipynb",
      "provenance": [],
      "collapsed_sections": [],
      "include_colab_link": true
    },
    "kernelspec": {
      "name": "python3",
      "display_name": "Python 3"
    }
  },
  "cells": [
    {
      "cell_type": "markdown",
      "metadata": {
        "id": "view-in-github",
        "colab_type": "text"
      },
      "source": [
        "<a href=\"https://colab.research.google.com/github/quannoodle/colab-public/blob/main/correlation/ROC_curve.ipynb\" target=\"_parent\"><img src=\"https://colab.research.google.com/assets/colab-badge.svg\" alt=\"Open In Colab\"/></a>"
      ]
    },
    {
      "cell_type": "markdown",
      "metadata": {
        "id": "oPUuSjJ96Au-"
      },
      "source": [
        "# **Machine Learning in Python: Making Receiver Operating Characteristic (ROC) curve**\n",
        "\n",
        "Copied from https://github.com/dataprofessor/code/blob/master/python/ROC_curve.ipynb\n",
        "\n",
        "<i>Data Professor YouTube channel, http://youtube.com/dataprofessor </i>\n",
        "\n",
        "In this Jupyter notebook, we will be making a Receiver Operating Characteristic (ROC) curve using the Iris data set as an example."
      ]
    },
    {
      "cell_type": "markdown",
      "source": [
        "![Screen Shot 2022-10-02 at 9.32.34 PM.png](data:image/png;base64,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)\n",
        "\n",
        "* Precision = `TP / (TP + FP)`\n",
        "* Recall = `TP / (TP + FN)`\n",
        "* Accuracy = `(TP + TF) / (TP + FP + FN + TF)`\n"
      ],
      "metadata": {
        "id": "X0_U6bJEHa5h"
      }
    },
    {
      "cell_type": "markdown",
      "metadata": {
        "id": "_SJy5TKvuF9s"
      },
      "source": [
        "## **What is ROC curve?**\n",
        "\n",
        "The **ROC curve** summarizes the prediction performance of a classification model at all classification thresholds. Particularly, the ROC curve plots the **False Positive Rate (FPR)** on the *X-axis* and the **True Positive Rate (TPR)** on the *Y-axis*.\n",
        "\n",
        "$\\text{TPR (Sensitivity)} = \\frac{TP}{TP + FN}$\n",
        "\n",
        "$\\text{FPR (1 - Specificity)} = \\frac{FP}{TN + FP}$"
      ]
    },
    {
      "cell_type": "markdown",
      "metadata": {
        "id": "KwebBKbP3Vsx"
      },
      "source": [
        "## **Generate synthetic dataset**"
      ]
    },
    {
      "cell_type": "code",
      "metadata": {
        "id": "ECJbWdcw5JMu"
      },
      "source": [
        "from sklearn.datasets import make_classification\n",
        "import numpy as np"
      ],
      "execution_count": null,
      "outputs": []
    },
    {
      "cell_type": "code",
      "metadata": {
        "id": "Wl9Gu5Ba1d1X"
      },
      "source": [
        "X, Y = make_classification(n_samples=2000, n_classes=2, n_features=10, random_state=0)"
      ],
      "execution_count": null,
      "outputs": []
    },
    {
      "cell_type": "markdown",
      "metadata": {
        "id": "eqZsiSMtrdm9"
      },
      "source": [
        "## **Add noisy features to make the problem more difficult** $^1$\n"
      ]
    },
    {
      "cell_type": "code",
      "metadata": {
        "id": "r9otz_41rPXH"
      },
      "source": [
        "random_state = np.random.RandomState(0)\n",
        "n_samples, n_features = X.shape\n",
        "X = np.c_[X, random_state.randn(n_samples, 200 * n_features)]"
      ],
      "execution_count": null,
      "outputs": []
    },
    {
      "cell_type": "markdown",
      "metadata": {
        "id": "nAw93CgK4178"
      },
      "source": [
        "## **Data splitting**"
      ]
    },
    {
      "cell_type": "code",
      "metadata": {
        "id": "NRmlzFOA4x9Z"
      },
      "source": [
        "from sklearn.model_selection import train_test_split"
      ],
      "execution_count": null,
      "outputs": []
    },
    {
      "cell_type": "code",
      "metadata": {
        "id": "yTep82KV9axn"
      },
      "source": [
        "X_train, X_test, Y_train, Y_test = train_test_split(X, Y, test_size=.2,\n",
        "                                                    random_state=0)"
      ],
      "execution_count": null,
      "outputs": []
    },
    {
      "cell_type": "markdown",
      "metadata": {
        "id": "V_MvToES4n_A"
      },
      "source": [
        "## **Build classification model**"
      ]
    },
    {
      "cell_type": "code",
      "metadata": {
        "id": "Fo9Xk5T94v6j"
      },
      "source": [
        "from sklearn.ensemble import RandomForestClassifier\n",
        "from sklearn.naive_bayes import GaussianNB"
      ],
      "execution_count": null,
      "outputs": []
    },
    {
      "cell_type": "markdown",
      "metadata": {
        "id": "0C3NRujmed_j"
      },
      "source": [
        "### Random Forest"
      ]
    },
    {
      "cell_type": "code",
      "metadata": {
        "id": "5WQ8UFXe9Zmx",
        "outputId": "59d40193-4955-4ef9-89e5-c258b82e0608",
        "colab": {
          "base_uri": "https://localhost:8080/",
          "height": 153
        }
      },
      "source": [
        "rf = RandomForestClassifier(max_features=5, n_estimators=500)\n",
        "rf.fit(X_train, Y_train)"
      ],
      "execution_count": null,
      "outputs": [
        {
          "output_type": "execute_result",
          "data": {
            "text/plain": [
              "RandomForestClassifier(bootstrap=True, ccp_alpha=0.0, class_weight=None,\n",
              "                       criterion='gini', max_depth=None, max_features=5,\n",
              "                       max_leaf_nodes=None, max_samples=None,\n",
              "                       min_impurity_decrease=0.0, min_impurity_split=None,\n",
              "                       min_samples_leaf=1, min_samples_split=2,\n",
              "                       min_weight_fraction_leaf=0.0, n_estimators=500,\n",
              "                       n_jobs=None, oob_score=False, random_state=None,\n",
              "                       verbose=0, warm_start=False)"
            ]
          },
          "metadata": {
            "tags": []
          },
          "execution_count": 7
        }
      ]
    },
    {
      "cell_type": "markdown",
      "metadata": {
        "id": "Aw_Ax0cne2BC"
      },
      "source": [
        "### Naive Bayes"
      ]
    },
    {
      "cell_type": "code",
      "metadata": {
        "id": "nxmFVCs-e9Mz",
        "outputId": "6d8621b3-555e-41b7-c219-bd7c2118c0b7",
        "colab": {
          "base_uri": "https://localhost:8080/",
          "height": 34
        }
      },
      "source": [
        "nb = GaussianNB()\n",
        "nb.fit(X_train, Y_train)"
      ],
      "execution_count": null,
      "outputs": [
        {
          "output_type": "execute_result",
          "data": {
            "text/plain": [
              "GaussianNB(priors=None, var_smoothing=1e-09)"
            ]
          },
          "metadata": {
            "tags": []
          },
          "execution_count": 8
        }
      ]
    },
    {
      "cell_type": "markdown",
      "metadata": {
        "id": "hl_hDOsvDmyV"
      },
      "source": [
        "## **Prediction probabilities** $^2$"
      ]
    },
    {
      "cell_type": "code",
      "metadata": {
        "id": "jVkSSnnGCQ0O"
      },
      "source": [
        "r_probs = [0 for _ in range(len(Y_test))]\n",
        "rf_probs = rf.predict_proba(X_test)\n",
        "nb_probs = nb.predict_proba(X_test)"
      ],
      "execution_count": null,
      "outputs": []
    },
    {
      "cell_type": "markdown",
      "metadata": {
        "id": "GNha6VVeDsyb"
      },
      "source": [
        "Probabilities for the positive outcome is kept."
      ]
    },
    {
      "cell_type": "code",
      "metadata": {
        "id": "a4j8EtvZCdF8"
      },
      "source": [
        "rf_probs = rf_probs[:, 1]\n",
        "nb_probs = nb_probs[:, 1]"
      ],
      "execution_count": null,
      "outputs": []
    },
    {
      "cell_type": "markdown",
      "metadata": {
        "id": "rf9gjJcb4i0e"
      },
      "source": [
        "## **Computing AUROC and ROC curve values**"
      ]
    },
    {
      "cell_type": "code",
      "metadata": {
        "id": "cSfzTGWn4lXe"
      },
      "source": [
        "from sklearn.metrics import roc_curve, roc_auc_score"
      ],
      "execution_count": null,
      "outputs": []
    },
    {
      "cell_type": "markdown",
      "metadata": {
        "id": "gpr5ON6QC7ip"
      },
      "source": [
        "### **Calculate AUROC**\n",
        "**ROC** is the receiver operating characteristic\n",
        "**AUROC** is the area under the ROC curve"
      ]
    },
    {
      "cell_type": "code",
      "metadata": {
        "id": "yVwjOC6XC5lw"
      },
      "source": [
        "r_auc = roc_auc_score(Y_test, r_probs)\n",
        "rf_auc = roc_auc_score(Y_test, rf_probs)\n",
        "nb_auc = roc_auc_score(Y_test, nb_probs)"
      ],
      "execution_count": null,
      "outputs": []
    },
    {
      "cell_type": "markdown",
      "metadata": {
        "id": "TIzyhgstDMqw"
      },
      "source": [
        "### **Print AUROC scores**"
      ]
    },
    {
      "cell_type": "code",
      "metadata": {
        "id": "lUvZ8_BbC5uf",
        "outputId": "f7012c23-bfd5-4933-8a8c-49fa0c9931ed",
        "colab": {
          "base_uri": "https://localhost:8080/",
          "height": 68
        }
      },
      "source": [
        "print('Random (chance) Prediction: AUROC = %.3f' % (r_auc))\n",
        "print('Random Forest: AUROC = %.3f' % (rf_auc))\n",
        "print('Naive Bayes: AUROC = %.3f' % (nb_auc))"
      ],
      "execution_count": null,
      "outputs": [
        {
          "output_type": "stream",
          "text": [
            "Random (chance) Prediction: AUROC = 0.500\n",
            "Random Forest: AUROC = 0.941\n",
            "Naive Bayes: AUROC = 0.993\n"
          ],
          "name": "stdout"
        }
      ]
    },
    {
      "cell_type": "markdown",
      "metadata": {
        "id": "7AsuB3AQE5FC"
      },
      "source": [
        "### **Calculate ROC curve**"
      ]
    },
    {
      "cell_type": "code",
      "metadata": {
        "id": "lApmrHMp9YDb"
      },
      "source": [
        "r_fpr, r_tpr, _ = roc_curve(Y_test, r_probs)\n",
        "rf_fpr, rf_tpr, _ = roc_curve(Y_test, rf_probs)\n",
        "nb_fpr, nb_tpr, _ = roc_curve(Y_test, nb_probs)"
      ],
      "execution_count": null,
      "outputs": []
    },
    {
      "cell_type": "markdown",
      "metadata": {
        "id": "tXpx2YMM4Gsb"
      },
      "source": [
        "## **Plot the ROC curve**"
      ]
    },
    {
      "cell_type": "code",
      "metadata": {
        "id": "oL96kXed4MvL"
      },
      "source": [
        "import matplotlib.pyplot as plt"
      ],
      "execution_count": null,
      "outputs": []
    },
    {
      "cell_type": "code",
      "metadata": {
        "id": "v2Q6p9qmFVxB",
        "outputId": "99d38f38-6f9c-41bb-aadb-98f428720982",
        "colab": {
          "base_uri": "https://localhost:8080/",
          "height": 295
        }
      },
      "source": [
        "\n",
        "plt.plot(r_fpr, r_tpr, linestyle='--', label='Random prediction (AUROC = %0.3f)' % r_auc)\n",
        "plt.plot(rf_fpr, rf_tpr, marker='.', label='Random Forest (AUROC = %0.3f)' % rf_auc)\n",
        "plt.plot(nb_fpr, nb_tpr, marker='.', label='Naive Bayes (AUROC = %0.3f)' % nb_auc)\n",
        "\n",
        "# Title\n",
        "plt.title('ROC Plot')\n",
        "# Axis labels\n",
        "plt.xlabel('False Positive Rate')\n",
        "plt.ylabel('True Positive Rate')\n",
        "# Show legend\n",
        "plt.legend() # \n",
        "# Show plot\n",
        "plt.show()"
      ],
      "execution_count": null,
      "outputs": [
        {
          "output_type": "display_data",
          "data": {
            "image/png": "[encoded data removed]",
            "text/plain": [
              "<Figure size 432x288 with 1 Axes>"
            ]
          },
          "metadata": {
            "tags": []
          }
        }
      ]
    },
    {
      "cell_type": "markdown",
      "metadata": {
        "id": "KjKvljmy5O25"
      },
      "source": [
        "## **Reference**\n",
        "1. https://scikit-learn.org/stable/auto_examples/model_selection/plot_roc.html\n",
        "2. https://machinelearningmastery.com/roc-curves-and-precision-recall-curves-for-classification-in-python/\n"
      ]
    },
    {
      "cell_type": "markdown",
      "metadata": {
        "id": "qen82yXu_VFw"
      },
      "source": [
        "---"
      ]
    }
  ]
}